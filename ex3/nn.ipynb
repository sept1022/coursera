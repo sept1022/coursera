{
 "cells": [
  {
   "cell_type": "code",
   "execution_count": 1,
   "metadata": {},
   "outputs": [],
   "source": [
    "%config IPCompleter.greedy=True\n",
    "import matplotlib.pyplot as plt\n",
    "import matplotlib.cm as cm\n",
    "import numpy as np\n",
    "import pandas as pd\n",
    "from random import sample\n",
    "import scipy.io"
   ]
  },
  {
   "cell_type": "code",
   "execution_count": 2,
   "metadata": {},
   "outputs": [
    {
     "name": "stdout",
     "output_type": "stream",
     "text": [
      "dict_keys(['__header__', '__version__', '__globals__', 'X', 'y'])\n",
      "dict_keys(['__header__', '__version__', '__globals__', 'Theta1', 'Theta2'])\n"
     ]
    }
   ],
   "source": [
    "features = scipy.io.loadmat('ex3data1.mat')\n",
    "print(features.keys())\n",
    "\n",
    "weights = scipy.io.loadmat(\"ex3weights.mat\")\n",
    "print(weights.keys())"
   ]
  },
  {
   "cell_type": "code",
   "execution_count": 3,
   "metadata": {
    "scrolled": true
   },
   "outputs": [
    {
     "name": "stdout",
     "output_type": "stream",
     "text": [
      "X (5000, 401)\n",
      "y (5000, 1)\n",
      "theta1 (25, 401)\n",
      "theta2 (10, 26)\n"
     ]
    }
   ],
   "source": [
    "X = features['X']\n",
    "y = features['y']\n",
    "X = np.c_[np.ones(X.shape[0]), X]\n",
    "theta = [weights['Theta1'], weights['Theta2']]\n",
    "print(\"X\", X.shape)\n",
    "print(\"y\", y.shape)\n",
    "print(\"theta1\", weights['Theta1'].shape)\n",
    "print(\"theta2\", weights['Theta2'].shape)"
   ]
  },
  {
   "cell_type": "code",
   "execution_count": 4,
   "metadata": {},
   "outputs": [],
   "source": [
    "def sigmoid(z):\n",
    "    return 1/(1+np.exp(-z))"
   ]
  },
  {
   "cell_type": "code",
   "execution_count": 5,
   "metadata": {},
   "outputs": [],
   "source": [
    "def feedforward(X, theta):\n",
    "    a = X\n",
    "    depth = len(theta)\n",
    "    for i in range(depth):\n",
    "        w = theta[i]\n",
    "        z = w.dot(a)\n",
    "        a = sigmoid(z)\n",
    "        if i != depth -1:\n",
    "            a = np.insert(a, 0, 1)\n",
    "    return a"
   ]
  },
  {
   "cell_type": "code",
   "execution_count": 6,
   "metadata": {},
   "outputs": [
    {
     "name": "stdout",
     "output_type": "stream",
     "text": [
      "5000\n",
      "[ 1  2  3  4  5  6  7  8  9 10]\n"
     ]
    }
   ],
   "source": [
    "def predict(X, theta):\n",
    "    classified = []\n",
    "    for index in range(len(X)):\n",
    "        predict = feedforward(X[index], theta)\n",
    "        classified.append(np.argmax(predict) + 1)\n",
    "    return classified\n",
    "result = predict(X, theta)\n",
    "print(len(result))\n",
    "print(np.unique(result))"
   ]
  },
  {
   "cell_type": "code",
   "execution_count": 7,
   "metadata": {},
   "outputs": [
    {
     "name": "stdout",
     "output_type": "stream",
     "text": [
      "correct: 4876\n",
      "accuracy: 0.975\n"
     ]
    }
   ],
   "source": [
    "correct = 0\n",
    "incorrect_index = []\n",
    "for index in range(len(y)):\n",
    "    if y[index] == result[index]:\n",
    "        correct += 1\n",
    "    else:\n",
    "        incorrect_index.append(index)\n",
    "        \n",
    "print(\"correct: %d\" % (correct))\n",
    "print(\"accuracy: %.3f\" % (correct/len(y)))"
   ]
  },
  {
   "cell_type": "code",
   "execution_count": 17,
   "metadata": {},
   "outputs": [],
   "source": [
    "def plotIncorrectData(incorrect_index):\n",
    "    w, h = 20, 20\n",
    "    for x in range(5):\n",
    "        i = sample(incorrect_index, 1)\n",
    "        index = i[0]\n",
    "        image_data = np.array(features['X'][index]).reshape(w, h).T\n",
    "        fig = plt.figure(figsize=(2,2))\n",
    "        fig.suptitle(\"predicted: %d, origin: %d\" % (result[index], y[index]))\n",
    "        #image = scipy.misc.toimage(image_data) #for window\n",
    "        plt.imshow(image_data, cmap=cm.gray)\n",
    "    plt.show()"
   ]
  },
  {
   "cell_type": "code",
   "execution_count": 18,
   "metadata": {},
   "outputs": [
    {
     "data": {
      "image/png": "[encoded data removed]",
      "text/plain": [
       "<matplotlib.figure.Figure at 0x18136e20b8>"
      ]
     },
     "metadata": {},
     "output_type": "display_data"
    },
    {
     "data": {
      "image/png": "[encoded data removed]",
      "text/plain": [
       "<matplotlib.figure.Figure at 0x18138b4550>"
      ]
     },
     "metadata": {},
     "output_type": "display_data"
    },
    {
     "data": {
      "image/png": "[encoded data removed]",
      "text/plain": [
       "<matplotlib.figure.Figure at 0x18138ece48>"
      ]
     },
     "metadata": {},
     "output_type": "display_data"
    },
    {
     "data": {
      "image/png": "[encoded data removed]",
      "text/plain": [
       "<matplotlib.figure.Figure at 0x1813933780>"
      ]
     },
     "metadata": {},
     "output_type": "display_data"
    },
    {
     "data": {
      "image/png": "[encoded data removed]",
      "text/plain": [
       "<matplotlib.figure.Figure at 0x1813908ef0>"
      ]
     },
     "metadata": {},
     "output_type": "display_data"
    }
   ],
   "source": [
    "plotIncorrectData(incorrect_index)"
   ]
  },
  {
   "cell_type": "code",
   "execution_count": null,
   "metadata": {
    "collapsed": true
   },
   "outputs": [],
   "source": []
  }
 ],
 "metadata": {
  "kernelspec": {
   "display_name": "Python 3",
   "language": "python",
   "name": "python3"
  },
  "language_info": {
   "codemirror_mode": {
    "name": "ipython",
    "version": 3
   },
   "file_extension": ".py",
   "mimetype": "text/x-python",
   "name": "python",
   "nbconvert_exporter": "python",
   "pygments_lexer": "ipython3",
   "version": "3.6.4"
  }
 },
 "nbformat": 4,
 "nbformat_minor": 2
}
