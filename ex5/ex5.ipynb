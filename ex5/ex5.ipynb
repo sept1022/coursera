{
 "cells": [
  {
   "cell_type": "code",
   "execution_count": 574,
   "metadata": {},
   "outputs": [],
   "source": [
    "%config IPCompleter.greedy=True\n",
    "\n",
    "import matplotlib.pyplot as plt\n",
    "import numpy as np\n",
    "import pandas as pd\n",
    "\n",
    "from scipy.optimize import fmin_cg\n",
    "import scipy.io"
   ]
  },
  {
   "cell_type": "code",
   "execution_count": 575,
   "metadata": {},
   "outputs": [],
   "source": [
    "data = scipy.io.loadmat(\"ex5data1.mat\")"
   ]
  },
  {
   "cell_type": "code",
   "execution_count": 576,
   "metadata": {},
   "outputs": [
    {
     "data": {
      "text/plain": [
       "dict_keys(['__header__', '__version__', '__globals__', 'X', 'y', 'Xtest', 'ytest', 'Xval', 'yval'])"
      ]
     },
     "execution_count": 576,
     "metadata": {},
     "output_type": "execute_result"
    }
   ],
   "source": [
    "data.keys()"
   ]
  },
  {
   "cell_type": "code",
   "execution_count": 577,
   "metadata": {},
   "outputs": [],
   "source": [
    "X = data['X']\n",
    "y = data['y']\n",
    "Xtest = data['Xtest']\n",
    "ytest = data['ytest']\n",
    "Xval = data['Xval']\n",
    "yval = data['yval']"
   ]
  },
  {
   "cell_type": "code",
   "execution_count": 578,
   "metadata": {},
   "outputs": [
    {
     "name": "stdout",
     "output_type": "stream",
     "text": [
      "[-15.93675813 -29.15297922  36.18954863  37.49218733 -48.05882945\n",
      "  -8.94145794  15.30779289 -34.70626581   1.38915437 -44.38375985\n",
      "   7.01350208  22.76274892] \n",
      " 12\n",
      "[ 2.13431051  1.17325668 34.35910918 36.83795516  2.80896507  2.12107248\n",
      " 14.71026831  2.61418439  3.74017167  3.73169131  7.62765885 22.7524283 ] \n",
      " 12\n"
     ]
    }
   ],
   "source": [
    "print(X[:,0], \"\\n\", len(X))\n",
    "print(y[:,0], \"\\n\", len(y))"
   ]
  },
  {
   "cell_type": "code",
   "execution_count": 579,
   "metadata": {},
   "outputs": [],
   "source": [
    "theta = np.ones(2).reshape(2,1)\n",
    "X_ = np.column_stack((np.ones(X.shape[0]), X))\n",
    "Xtest = np.column_stack((np.ones(Xtest.shape[0]), Xtest))\n",
    "Xval = np.column_stack((np.ones(Xval.shape[0]), Xval))"
   ]
  },
  {
   "cell_type": "code",
   "execution_count": 610,
   "metadata": {},
   "outputs": [
    {
     "name": "stdout",
     "output_type": "stream",
     "text": [
      "[[303.99319222]]\n"
     ]
    }
   ],
   "source": [
    "#def sigmoid(z):\n",
    "#    return 1 / (1 + np.exp(-z))\n",
    "\n",
    "def hypothesis(theta, X):\n",
    "    #print(theta.shape, X.shape)\n",
    "    return X.dot(theta)\n",
    "    \n",
    "def linearRegCostFunction(theta, X, y, l=0.):\n",
    "    #X = np.column_stack((np.ones(X.shape[0]), X))\n",
    "    #theta = theta.reshape(2,1)\n",
    "    theta = theta.reshape(X.shape[1],1)\n",
    "    h = hypothesis(theta, X)\n",
    "    \n",
    "    #debubbing]    \n",
    "    m = len(y)\n",
    "    diff = h-y\n",
    "    \n",
    "    left = diff.T.dot(diff)*(1/(2*m))\n",
    "    right = np.sum(theta[1:] * theta[1:]) * (l/(2*m))\n",
    "    return left + right\n",
    "\n",
    "    \n",
    "print(linearRegCostFunction(theta, X_, y, 1.0))"
   ]
  },
  {
   "cell_type": "code",
   "execution_count": 611,
   "metadata": {},
   "outputs": [
    {
     "data": {
      "text/plain": [
       "array([-15.30301567, 598.25074417])"
      ]
     },
     "execution_count": 611,
     "metadata": {},
     "output_type": "execute_result"
    }
   ],
   "source": [
    "def linearRegGradient(theta, X, y, l=1.0):\n",
    "    #print(X.shape[1])\n",
    "    theta = theta.reshape(X.shape[1],1)\n",
    "    h = hypothesis(theta,X)\n",
    "    \n",
    "    m = len(y)\n",
    "    term = (1/m) * X.T.dot(h-y)\n",
    "    reg_term = l/m * theta\n",
    "    reg_term[0] = 0.0\n",
    "    \n",
    "    return (term + reg_term).flatten()\n",
    "linearRegGradient(theta, X_, y, 1.0)"
   ]
  },
  {
   "cell_type": "code",
   "execution_count": 677,
   "metadata": {},
   "outputs": [
    {
     "name": "stdout",
     "output_type": "stream",
     "text": [
      "1.0\n",
      "Optimization terminated successfully.\n",
      "         Current function value: 22.379542\n",
      "         Iterations: 18\n",
      "         Function evaluations: 28\n",
      "         Gradient evaluations: 28\n"
     ]
    }
   ],
   "source": [
    "def optimizeTheta(theta, X, y, l=1.0):\n",
    "    #print(\"training set: \", len(X))\n",
    "    print(l)\n",
    "    result = fmin_cg(f = linearRegCostFunction,\n",
    "                     x0 = theta,\n",
    "                     fprime = linearRegGradient,\n",
    "                     args = (X, y, l),\n",
    "                     disp = True,\n",
    "                     maxiter = 1000)\n",
    "    return result\n",
    "optimized_theta = optimizeTheta(theta, X_, y, 1.0)\n",
    "                     "
   ]
  },
  {
   "cell_type": "code",
   "execution_count": 678,
   "metadata": {},
   "outputs": [
    {
     "data": {
      "image/png": "[encoded data removed]",
      "text/plain": [
       "<matplotlib.figure.Figure at 0x181a6a5128>"
      ]
     },
     "metadata": {},
     "output_type": "display_data"
    }
   ],
   "source": [
    "def plotData(X,y):\n",
    "    plt.figure()\n",
    "    plt.xlabel(\"Change in water level(x)\")\n",
    "    plt.ylabel(\"Water flowing out of the dam(y)\")\n",
    "    plt.grid(True)\n",
    "    plt.scatter(X[:,0], y[:,0], marker ='+', color='r')\n",
    "    \n",
    "    w0 = optimized_theta[0]\n",
    "    w1 = optimized_theta[1]\n",
    "    \n",
    "    x = np.array([np.min(X), np.max(X)])\n",
    "    y = w0 + x*w1\n",
    "    \n",
    "    plt.plot(x, y, label=\"boundary\")\n",
    "    plt.show()\n",
    "plotData(X,y)"
   ]
  },
  {
   "cell_type": "code",
   "execution_count": 679,
   "metadata": {},
   "outputs": [
    {
     "name": "stdout",
     "output_type": "stream",
     "text": [
      "1.0\n",
      "Optimization terminated successfully.\n",
      "         Current function value: 0.000000\n",
      "         Iterations: 3\n",
      "         Function evaluations: 9\n",
      "         Gradient evaluations: 9\n",
      "1.0\n",
      "Optimization terminated successfully.\n",
      "         Current function value: 0.001307\n",
      "         Iterations: 3\n",
      "         Function evaluations: 7\n",
      "         Gradient evaluations: 7\n",
      "1.0\n",
      "Optimization terminated successfully.\n",
      "         Current function value: 3.335017\n",
      "         Iterations: 4\n",
      "         Function evaluations: 9\n",
      "         Gradient evaluations: 9\n",
      "1.0\n",
      "Optimization terminated successfully.\n",
      "         Current function value: 2.881847\n",
      "         Iterations: 25\n",
      "         Function evaluations: 39\n",
      "         Gradient evaluations: 39\n",
      "1.0\n",
      "Optimization terminated successfully.\n",
      "         Current function value: 13.174273\n",
      "         Iterations: 4\n",
      "         Function evaluations: 8\n",
      "         Gradient evaluations: 8\n",
      "1.0\n",
      "Optimization terminated successfully.\n",
      "         Current function value: 19.461396\n",
      "         Iterations: 4\n",
      "         Function evaluations: 8\n",
      "         Gradient evaluations: 8\n",
      "1.0\n",
      "Optimization terminated successfully.\n",
      "         Current function value: 20.112149\n",
      "         Iterations: 4\n",
      "         Function evaluations: 8\n",
      "         Gradient evaluations: 8\n",
      "1.0\n",
      "Optimization terminated successfully.\n",
      "         Current function value: 18.184047\n",
      "         Iterations: 8\n",
      "         Function evaluations: 15\n",
      "         Gradient evaluations: 15\n",
      "1.0\n",
      "Optimization terminated successfully.\n",
      "         Current function value: 22.618880\n",
      "         Iterations: 10\n",
      "         Function evaluations: 16\n",
      "         Gradient evaluations: 16\n",
      "1.0\n",
      "Optimization terminated successfully.\n",
      "         Current function value: 23.268598\n",
      "         Iterations: 6\n",
      "         Function evaluations: 12\n",
      "         Gradient evaluations: 12\n",
      "1.0\n",
      "Optimization terminated successfully.\n",
      "         Current function value: 24.323253\n",
      "         Iterations: 6\n",
      "         Function evaluations: 12\n",
      "         Gradient evaluations: 12\n",
      "1.0\n",
      "Optimization terminated successfully.\n",
      "         Current function value: 22.379542\n",
      "         Iterations: 18\n",
      "         Function evaluations: 28\n",
      "         Gradient evaluations: 28\n"
     ]
    },
    {
     "data": {
      "image/png": "[encoded data removed]",
      "text/plain": [
       "<matplotlib.figure.Figure at 0x181b0fc4a8>"
      ]
     },
     "metadata": {},
     "output_type": "display_data"
    }
   ],
   "source": [
    "def learningCurve():\n",
    "    m = len(y)\n",
    "    \n",
    "    error_train = []\n",
    "    error_val = []\n",
    "    exmaples = np.arange(m)\n",
    "    for i in exmaples:\n",
    "        theta = np.ones(2).reshape(2,1) \n",
    "        optimized = optimizeTheta(theta, X_[:i+1], y[:i+1], 1.0)\n",
    "        #print(\"with #\" + str(i+1), optimized)\n",
    "        error_train.append(linearRegCostFunction(optimized, X_[:i+1], y[:i+1], 1.0)[0][0])\n",
    "        error_val.append(linearRegCostFunction(optimized, Xval, yval, 1.0)[0][0])\n",
    "        #print(\"with #\" + str(i+1), error_train, error_val)\n",
    "    \n",
    "    plt.plot(figsize=(15,20))\n",
    "    plt.ylabel(\"Error\")\n",
    "    plt.xlabel(\"Number of training examples\")\n",
    "    plt.plot(exmaples, error_train, color=\"b\", label = \"Train\")\n",
    "    plt.plot(exmaples, error_val, color=\"g\", label = \"Cross Validation\")\n",
    "    plt.legend()\n",
    "    plt.show()\n",
    "\n",
    "\n",
    "learningCurve()"
   ]
  },
  {
   "cell_type": "code",
   "execution_count": 687,
   "metadata": {},
   "outputs": [],
   "source": [
    "def polyFeatures(X, degree):\n",
    "    new_X = X.copy()\n",
    "    for d in range(2, degree):\n",
    "        new_X = np.column_stack((new_X, np.power(X[:,1], d)))\n",
    "    return new_X\n",
    "\n",
    "poly_X = polyFeatures(X_, 8)\n",
    "\n",
    "def featureNormalize(feature):\n",
    "    mean = np.mean(feature, axis=0)\n",
    "    std = np.std(feature, axis=0)\n",
    "    \n",
    "    feature[:,1:] -= mean[1:]\n",
    "    feature[:,1:] /= std[1:]\n",
    "    \n",
    "    return mean, std\n",
    "\n",
    "mean, std = featureNormalize(poly_X)"
   ]
  },
  {
   "cell_type": "code",
   "execution_count": 698,
   "metadata": {},
   "outputs": [
    {
     "name": "stdout",
     "output_type": "stream",
     "text": [
      "1\n",
      "Optimization terminated successfully.\n",
      "         Current function value: 6.836763\n",
      "         Iterations: 41\n",
      "         Function evaluations: 65\n",
      "         Gradient evaluations: 65\n",
      "[11.21759898  8.39868643  5.10949068  3.39414511  2.2333891   1.56959698\n",
      "  1.08988997  0.92772402]\n"
     ]
    }
   ],
   "source": [
    "def learnPolynomial(poly_X, y, l):\n",
    "    feature_size = poly_X.shape[1]\n",
    "    theta = np.ones(feature_size).reshape(feature_size,1)\n",
    "    optimized = optimizeTheta(theta, poly_X, y, l)\n",
    "    return optimized\n",
    "    \n",
    "poly_optimized = learnPolynomial(poly_X, y, 1)\n",
    "print(poly_optimized)\n",
    "\n",
    "    "
   ]
  },
  {
   "cell_type": "code",
   "execution_count": 699,
   "metadata": {},
   "outputs": [
    {
     "name": "stdout",
     "output_type": "stream",
     "text": [
      "(8,)\n",
      "(50, 8)\n"
     ]
    },
    {
     "data": {
      "image/png": "[encoded data removed]",
      "text/plain": [
       "<matplotlib.figure.Figure at 0x10a103278>"
      ]
     },
     "metadata": {},
     "output_type": "display_data"
    }
   ],
   "source": [
    "def plotPolyFit(X, y, poly_optimized, mean, std):\n",
    "    plt.figure()\n",
    "    plt.xlabel(\"Change in water level(x)\")\n",
    "    plt.ylabel(\"Water flowing out of the dam(y)\")\n",
    "    plt.scatter(X[:,0], y[:,0], marker ='+', color='r')\n",
    "    plt.grid(True)\n",
    "    \n",
    "    #x = np.linspace(np.min(X), np.max(X), 50)\n",
    "    x = np.linspace(-55, 45, 50)\n",
    "    x_data = np.column_stack((np.ones((x.shape[0],1)), x))\n",
    "    x_data = polyFeatures(x_data, 8)\n",
    "    x_data[:,1:] -= mean[1:]\n",
    "    x_data[:,1:] /= std[1:]\n",
    "    print(poly_optimized.shape)\n",
    "    print(x_data.shape)\n",
    "    y = hypothesis(poly_optimized.T, x_data)\n",
    "    plt.plot(x, y)\n",
    "    \n",
    "    plt.show()\n",
    "plotPolyFit(X, y, poly_optimized, mean, std)"
   ]
  },
  {
   "cell_type": "code",
   "execution_count": null,
   "metadata": {},
   "outputs": [],
   "source": []
  },
  {
   "cell_type": "code",
   "execution_count": null,
   "metadata": {},
   "outputs": [],
   "source": []
  }
 ],
 "metadata": {
  "kernelspec": {
   "display_name": "Python 3",
   "language": "python",
   "name": "python3"
  },
  "language_info": {
   "codemirror_mode": {
    "name": "ipython",
    "version": 3
   },
   "file_extension": ".py",
   "mimetype": "text/x-python",
   "name": "python",
   "nbconvert_exporter": "python",
   "pygments_lexer": "ipython3",
   "version": "3.6.4"
  }
 },
 "nbformat": 4,
 "nbformat_minor": 2
}
