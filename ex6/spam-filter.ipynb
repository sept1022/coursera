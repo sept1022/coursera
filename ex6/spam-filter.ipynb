{
 "cells": [
  {
   "cell_type": "code",
   "execution_count": 124,
   "metadata": {},
   "outputs": [],
   "source": [
    "%config IPCompleter.greedy=True\n",
    "import matplotlib.pyplot as plt\n",
    "import numpy as np\n",
    "import pandas as pd\n",
    "import scipy.io\n",
    "import re\n",
    "from sklearn import svm\n",
    "\n",
    "from porterStemmer import porterStemmer"
   ]
  },
  {
   "cell_type": "code",
   "execution_count": 142,
   "metadata": {},
   "outputs": [
    {
     "name": "stdout",
     "output_type": "stream",
     "text": [
      "vocab size: 1899\n"
     ]
    }
   ],
   "source": [
    "vocab = {}\n",
    "r_vocab = {}\n",
    "for line in open('vocab.txt'):\n",
    "    items = line[:-1].split('\\t')\n",
    "    vocab[items[1]] = int(items[0])\n",
    "    r_vocab[int(items[0])] = items[1]\n",
    "    \n",
    "print(\"vocab size:\", len(vocab))"
   ]
  },
  {
   "cell_type": "code",
   "execution_count": 126,
   "metadata": {},
   "outputs": [],
   "source": [
    "def processEmail(email, vocab):\n",
    "\n",
    "    # Init return value\n",
    "    word_indices = []\n",
    "\n",
    "    # Lower case\n",
    "    email = email.lower()\n",
    "\n",
    "    # Strip all HTML\n",
    "    rx = re.compile('<[^<>]+>|\\n')\n",
    "    email = rx.sub(' ', email)\n",
    "    # Handle Numbers\n",
    "    rx = re.compile('[0-9]+')\n",
    "    email = rx.sub('number ', email)\n",
    "\n",
    "    # Handle URLS\n",
    "    rx = re.compile('(http|https)://[^\\s]*')\n",
    "    email = rx.sub('httpaddr ', email)\n",
    "\n",
    "    # Handle Email Addresses\n",
    "    rx = re.compile('[^\\s]+@[^\\s]+')\n",
    "    email = rx.sub('emailaddr ', email)\n",
    "\n",
    "    # Handle $ sign\n",
    "    rx = re.compile('[$]+')\n",
    "    email = rx.sub('dollar ', email)\n",
    "\n",
    "    # Process file\n",
    "    l = 0\n",
    "\n",
    "    # Remove any non alphanumeric characters\n",
    "    rx = re.compile('[^a-zA-Z0-9 ]')\n",
    "    email = rx.sub('', email).split()\n",
    "\n",
    "    print(email)\n",
    "    for word in email:\n",
    "\n",
    "        # Tokenize and also get rid of any punctuation\n",
    "        # str = re.split('[' + re.escape(' @$/#.-:&*+=[]?!(){},''\">_<#')\n",
    "        #                                + chr(10) + chr(13) + ']', str)\n",
    "\n",
    "        # Stem the word\n",
    "        # (the porterStemmer sometimes has issues, so we use a try catch block)\n",
    "        try:\n",
    "            word = porterStemmer(word.strip())\n",
    "        except:\n",
    "            word = ''\n",
    "            continue\n",
    "            \n",
    "        if len(word) < 1:\n",
    "            continue\n",
    "        \n",
    "        if word not in vocab:\n",
    "            continue\n",
    "            \n",
    "        word_indices.append(vocab[word])\n",
    "        # Print to screen, ensuring that the output lines are not too long\n",
    "        if (l + len(word) + 1) > 78:\n",
    "            l = 0\n",
    "        else:\n",
    "            l = l + len(word) + 1\n",
    "\n",
    "\n",
    "    return word_indices"
   ]
  },
  {
   "cell_type": "code",
   "execution_count": 127,
   "metadata": {},
   "outputs": [
    {
     "name": "stdout",
     "output_type": "stream",
     "text": [
      "['anyone', 'knows', 'how', 'much', 'it', 'costs', 'to', 'host', 'a', 'web', 'portal', 'well', 'it', 'depends', 'on', 'how', 'many', 'visitors', 'youre', 'expecting', 'this', 'can', 'be', 'anywhere', 'from', 'less', 'than', 'number', 'bucks', 'a', 'month', 'to', 'a', 'couple', 'of', 'dollar', 'number', 'you', 'should', 'checkout', 'httpaddr', 'or', 'perhaps', 'amazon', 'ecnumber', 'if', 'youre', 'running', 'something', 'big', 'to', 'unsubscribe', 'yourself', 'from', 'this', 'mailing', 'list', 'send', 'an', 'email', 'to', 'emailaddr']\n",
      "[86, 916, 794, 1077, 883, 370, 1699, 790, 1822, 1831, 883, 431, 1171, 794, 1002, 1895, 592, 1676, 238, 162, 89, 688, 945, 1663, 1120, 1062, 1699, 375, 1162, 477, 1120, 1893, 1510, 799, 1182, 1237, 810, 1895, 1440, 1547, 181, 1699, 1758, 1896, 688, 1676, 992, 961, 1477, 71, 530, 1699, 531]\n"
     ]
    }
   ],
   "source": [
    "email = \"\"\"> Anyone knows how much it costs to host a web portal ?\n",
    ">\n",
    "Well, it depends on how many visitors youre expecting. This can be anywhere from less than 10 bucks a month to a couple of $100. You should checkout http://www.rackspace.com/ or perhaps Amazon EC2 if youre running something big..\n",
    "To unsubscribe yourself from this mailing list, send an email to:\n",
    "groupname-unsubscribe@egroups.com\"\"\"\n",
    "print(processEmail(email, vocab))"
   ]
  },
  {
   "cell_type": "code",
   "execution_count": 132,
   "metadata": {},
   "outputs": [
    {
     "name": "stdout",
     "output_type": "stream",
     "text": [
      "(4000, 1899) (4000, 1)\n"
     ]
    },
    {
     "name": "stderr",
     "output_type": "stream",
     "text": [
      "/Users/sujeongkim/anaconda3/lib/python3.6/site-packages/ipykernel_launcher.py:3: FutureWarning: elementwise comparison failed; returning scalar instead, but in the future will perform elementwise comparison\n",
      "  This is separate from the ipykernel package so we can avoid doing imports until\n",
      "/Users/sujeongkim/anaconda3/lib/python3.6/site-packages/ipykernel_launcher.py:4: FutureWarning: elementwise comparison failed; returning scalar instead, but in the future will perform elementwise comparison\n",
      "  after removing the cwd from sys.path.\n",
      "/Users/sujeongkim/anaconda3/lib/python3.6/site-packages/ipykernel_launcher.py:10: FutureWarning: elementwise comparison failed; returning scalar instead, but in the future will perform elementwise comparison\n",
      "  # Remove the CWD from sys.path while we load stuff.\n",
      "/Users/sujeongkim/anaconda3/lib/python3.6/site-packages/ipykernel_launcher.py:11: FutureWarning: elementwise comparison failed; returning scalar instead, but in the future will perform elementwise comparison\n",
      "  # This is added back by InteractiveShellApp.init_path()\n"
     ]
    }
   ],
   "source": [
    "train_data = scipy.io.loadmat('spamTrain.mat')\n",
    "X = train_data['X']; y = train_data['y']\n",
    "y[y=='y'] = 1\n",
    "y[y=='n'] = 0\n",
    "print(X.shape, y.shape)\n",
    "\n",
    "test_data = scipy.io.loadmat('spamTest.mat')\n",
    "Xtest = test_data['Xtest']\n",
    "ytest = test_data['ytest']\n",
    "ytest[ytest=='y'] = 1\n",
    "ytest[ytest=='n'] = 0"
   ]
  },
  {
   "cell_type": "code",
   "execution_count": null,
   "metadata": {},
   "outputs": [],
   "source": [
    "C = [0.01, 0.03, 0.1, 0.3, 1, 3, 10, 30]\n",
    "sigma = C\n",
    "\n",
    "best_score = 0.0\n",
    "optimized = (0,0)\n",
    "for c in C:\n",
    "    for s in sigma:\n",
    "        gamma = 1.0 / (2.0 * s ** 2)\n",
    "        gauss_svm = svm.SVC(C=c, kernel='rbf', gamma=gamma)\n",
    "        gauss_model = gauss_svm.fit(X, y.flatten())\n",
    "        #print(\"C\", c, \"sigma\", s, \"score\", gauss_model.score(X, y))\n",
    "        score = gauss_model.score(Xtest, ytest)\n",
    "        if score > best_score:\n",
    "            best_score = score\n",
    "            optimized = (c, s)\n",
    "            \n",
    "print(\"best_score:\", best_score, \"C:\", optimized[0], \"sigma:\", optimized[1])"
   ]
  },
  {
   "cell_type": "code",
   "execution_count": 136,
   "metadata": {},
   "outputs": [
    {
     "name": "stderr",
     "output_type": "stream",
     "text": [
      "/Users/sujeongkim/anaconda3/lib/python3.6/site-packages/sklearn/utils/validation.py:578: DataConversionWarning: A column-vector y was passed when a 1d array was expected. Please change the shape of y to (n_samples, ), for example using ravel().\n",
      "  y = column_or_1d(y, warn=True)\n"
     ]
    },
    {
     "data": {
      "text/plain": [
       "0.99825"
      ]
     },
     "execution_count": 136,
     "metadata": {},
     "output_type": "execute_result"
    }
   ],
   "source": [
    "linear_svm = svm.SVC(C=0.1, kernel='linear')\n",
    "model = linear_svm.fit(X, y)\n"
   ]
  },
  {
   "cell_type": "code",
   "execution_count": 137,
   "metadata": {},
   "outputs": [
    {
     "data": {
      "text/plain": [
       "0.99825"
      ]
     },
     "execution_count": 137,
     "metadata": {},
     "output_type": "execute_result"
    }
   ],
   "source": [
    "model.score(X, y)"
   ]
  },
  {
   "cell_type": "code",
   "execution_count": 138,
   "metadata": {},
   "outputs": [
    {
     "data": {
      "text/plain": [
       "0.989"
      ]
     },
     "execution_count": 138,
     "metadata": {},
     "output_type": "execute_result"
    }
   ],
   "source": [
    "model.score(Xtest, ytest)"
   ]
  },
  {
   "cell_type": "code",
   "execution_count": 140,
   "metadata": {},
   "outputs": [
    {
     "data": {
      "text/plain": [
       "(1, 1899)"
      ]
     },
     "execution_count": 140,
     "metadata": {},
     "output_type": "execute_result"
    }
   ],
   "source": [
    "linear_svm.coef_.shape"
   ]
  },
  {
   "cell_type": "code",
   "execution_count": 171,
   "metadata": {},
   "outputs": [
    {
     "name": "stdout",
     "output_type": "stream",
     "text": [
      "[('otherwis', 0.5006137361746403), ('clearli', 0.46591639068888796), ('remot', 0.4228691170610412), ('gt', 0.3836216017940651), ('visa', 0.367710398245535), ('base', 0.3450640979461706), ('doesn', 0.3236320357963838), ('wife', 0.2697241060373996), ('previous', 0.2672977146177069), ('player', 0.26116888670014904), ('mortgag', 0.2572981979518163), ('natur', 0.2539414551595328), ('ll', 0.25346652431419936), ('futur', 0.2482969904556866), ('hot', 0.24640435783158998)]\n",
      "Help on function argsort in module numpy.core.fromnumeric:\n",
      "\n",
      "argsort(a, axis=-1, kind='quicksort', order=None)\n",
      "    Returns the indices that would sort an array.\n",
      "    \n",
      "    Perform an indirect sort along the given axis using the algorithm specified\n",
      "    by the `kind` keyword. It returns an array of indices of the same shape as\n",
      "    `a` that index data along the given axis in sorted order.\n",
      "    \n",
      "    Parameters\n",
      "    ----------\n",
      "    a : array_like\n",
      "        Array to sort.\n",
      "    axis : int or None, optional\n",
      "        Axis along which to sort.  The default is -1 (the last axis). If None,\n",
      "        the flattened array is used.\n",
      "    kind : {'quicksort', 'mergesort', 'heapsort'}, optional\n",
      "        Sorting algorithm.\n",
      "    order : str or list of str, optional\n",
      "        When `a` is an array with fields defined, this argument specifies\n",
      "        which fields to compare first, second, etc.  A single field can\n",
      "        be specified as a string, and not all fields need be specified,\n",
      "        but unspecified fields will still be used, in the order in which\n",
      "        they come up in the dtype, to break ties.\n",
      "    \n",
      "    Returns\n",
      "    -------\n",
      "    index_array : ndarray, int\n",
      "        Array of indices that sort `a` along the specified axis.\n",
      "        If `a` is one-dimensional, ``a[index_array]`` yields a sorted `a`.\n",
      "    \n",
      "    See Also\n",
      "    --------\n",
      "    sort : Describes sorting algorithms used.\n",
      "    lexsort : Indirect stable sort with multiple keys.\n",
      "    ndarray.sort : Inplace sort.\n",
      "    argpartition : Indirect partial sort.\n",
      "    \n",
      "    Notes\n",
      "    -----\n",
      "    See `sort` for notes on the different sorting algorithms.\n",
      "    \n",
      "    As of NumPy 1.4.0 `argsort` works with real/complex arrays containing\n",
      "    nan values. The enhanced sort order is documented in `sort`.\n",
      "    \n",
      "    Examples\n",
      "    --------\n",
      "    One dimensional array:\n",
      "    \n",
      "    >>> x = np.array([3, 1, 2])\n",
      "    >>> np.argsort(x)\n",
      "    array([1, 2, 0])\n",
      "    \n",
      "    Two-dimensional array:\n",
      "    \n",
      "    >>> x = np.array([[0, 3], [2, 2]])\n",
      "    >>> x\n",
      "    array([[0, 3],\n",
      "           [2, 2]])\n",
      "    \n",
      "    >>> np.argsort(x, axis=0)  # sorts along first axis (down)\n",
      "    array([[0, 1],\n",
      "           [1, 0]])\n",
      "    \n",
      "    >>> np.argsort(x, axis=1)  # sorts along last axis (across)\n",
      "    array([[0, 1],\n",
      "           [0, 1]])\n",
      "    \n",
      "    Indices of the sorted elements of a N-dimensional array:\n",
      "    \n",
      "    >>> ind = np.unravel_index(np.argsort(x, axis=None), x.shape)\n",
      "    >>> ind\n",
      "    (array([0, 1, 1, 0]), array([0, 0, 1, 1]))\n",
      "    >>> x[ind]  # same as np.sort(x, axis=None)\n",
      "    array([0, 2, 2, 3])\n",
      "    \n",
      "    Sorting with keys:\n",
      "    \n",
      "    >>> x = np.array([(1, 0), (0, 1)], dtype=[('x', '<i4'), ('y', '<i4')])\n",
      "    >>> x\n",
      "    array([(1, 0), (0, 1)],\n",
      "          dtype=[('x', '<i4'), ('y', '<i4')])\n",
      "    \n",
      "    >>> np.argsort(x, order=('x','y'))\n",
      "    array([1, 0])\n",
      "    \n",
      "    >>> np.argsort(x, order=('y','x'))\n",
      "    array([0, 1])\n",
      "\n"
     ]
    }
   ],
   "source": [
    "top_predictor = np.argsort(linear_svm.coef_)\n",
    "predictor = [(r_vocab[item], linear_svm.coef_[0][item]) for item in top_predictor.flatten()[-15:]]\n",
    "predictor.reverse()\n",
    "print(predictor)\n",
    "\n",
    "help(np.argsort)"
   ]
  },
  {
   "cell_type": "code",
   "execution_count": null,
   "metadata": {},
   "outputs": [],
   "source": []
  },
  {
   "cell_type": "code",
   "execution_count": null,
   "metadata": {},
   "outputs": [],
   "source": []
  }
 ],
 "metadata": {
  "kernelspec": {
   "display_name": "Python 3",
   "language": "python",
   "name": "python3"
  },
  "language_info": {
   "codemirror_mode": {
    "name": "ipython",
    "version": 3
   },
   "file_extension": ".py",
   "mimetype": "text/x-python",
   "name": "python",
   "nbconvert_exporter": "python",
   "pygments_lexer": "ipython3",
   "version": "3.6.4"
  }
 },
 "nbformat": 4,
 "nbformat_minor": 2
}
