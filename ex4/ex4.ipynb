{
 "cells": [
  {
   "cell_type": "code",
   "execution_count": 148,
   "metadata": {},
   "outputs": [],
   "source": [
    "%config IPCompleter.greedy=True\n",
    "\n",
    "import matplotlib.pyplot as plt\n",
    "import numpy as np\n",
    "import pandas as pd\n",
    "import scipy.io\n",
    "from scipy import optimize\n",
    "from random import sample\n",
    "import random"
   ]
  },
  {
   "cell_type": "code",
   "execution_count": 8,
   "metadata": {},
   "outputs": [],
   "source": [
    "data = scipy.io.loadmat(\"ex4data1.mat\")\n",
    "weights = scipy.io.loadmat(\"ex4weights.mat\")"
   ]
  },
  {
   "cell_type": "code",
   "execution_count": 14,
   "metadata": {},
   "outputs": [],
   "source": [
    "X = data['X']; y = data['y']\n",
    "X = np.c_[np.ones(X.shape[0]), X]\n",
    "theta = [weights['Theta1'], weights['Theta2']]"
   ]
  },
  {
   "cell_type": "code",
   "execution_count": 15,
   "metadata": {},
   "outputs": [
    {
     "name": "stdout",
     "output_type": "stream",
     "text": [
      "X (5000, 401)\n",
      "y (5000, 1)\n",
      "theta1 (25, 401)\n",
      "theta2 (10, 26)\n"
     ]
    }
   ],
   "source": [
    "print(\"X\", X.shape)\n",
    "print(\"y\", y.shape)\n",
    "print(\"theta1\", weights['Theta1'].shape)\n",
    "print(\"theta2\", weights['Theta2'].shape)"
   ]
  },
  {
   "cell_type": "code",
   "execution_count": 16,
   "metadata": {},
   "outputs": [
    {
     "name": "stdout",
     "output_type": "stream",
     "text": [
      "(200, 200)\n"
     ]
    },
    {
     "ename": "ValueError",
     "evalue": "cannot reshape array of size 401 into shape (20,20)",
     "output_type": "error",
     "traceback": [
      "\u001b[0;31m---------------------------------------------------------------------------\u001b[0m",
      "\u001b[0;31mValueError\u001b[0m                                Traceback (most recent call last)",
      "\u001b[0;32m<ipython-input-16-6c215a65d612>\u001b[0m in \u001b[0;36m<module>\u001b[0;34m()\u001b[0m\n\u001b[1;32m     23\u001b[0m     \u001b[0mplt\u001b[0m\u001b[0;34m.\u001b[0m\u001b[0mimshow\u001b[0m\u001b[0;34m(\u001b[0m\u001b[0mpicture\u001b[0m\u001b[0;34m,\u001b[0m \u001b[0mcmap\u001b[0m\u001b[0;34m=\u001b[0m\u001b[0;34m'gray'\u001b[0m\u001b[0;34m)\u001b[0m\u001b[0;34m\u001b[0m\u001b[0m\n\u001b[1;32m     24\u001b[0m \u001b[0;34m\u001b[0m\u001b[0m\n\u001b[0;32m---> 25\u001b[0;31m \u001b[0mdisplayData\u001b[0m\u001b[0;34m(\u001b[0m\u001b[0mX\u001b[0m\u001b[0;34m)\u001b[0m\u001b[0;34m\u001b[0m\u001b[0m\n\u001b[0m",
      "\u001b[0;32m<ipython-input-16-6c215a65d612>\u001b[0m in \u001b[0;36mdisplayData\u001b[0;34m(X, index_list)\u001b[0m\n\u001b[1;32m     15\u001b[0m         \u001b[0mrow_position\u001b[0m \u001b[0;34m=\u001b[0m \u001b[0mi\u001b[0m \u001b[0;34m*\u001b[0m \u001b[0mh\u001b[0m\u001b[0;34m\u001b[0m\u001b[0m\n\u001b[1;32m     16\u001b[0m         \u001b[0mcol_position\u001b[0m \u001b[0;34m=\u001b[0m \u001b[0mj\u001b[0m \u001b[0;34m*\u001b[0m \u001b[0mw\u001b[0m\u001b[0;34m\u001b[0m\u001b[0m\n\u001b[0;32m---> 17\u001b[0;31m         \u001b[0mimage\u001b[0m \u001b[0;34m=\u001b[0m \u001b[0mX\u001b[0m\u001b[0;34m[\u001b[0m\u001b[0mindex\u001b[0m\u001b[0;34m]\u001b[0m\u001b[0;34m.\u001b[0m\u001b[0mreshape\u001b[0m\u001b[0;34m(\u001b[0m\u001b[0mh\u001b[0m\u001b[0;34m,\u001b[0m \u001b[0mw\u001b[0m\u001b[0;34m)\u001b[0m\u001b[0;34m.\u001b[0m\u001b[0mT\u001b[0m\u001b[0;34m\u001b[0m\u001b[0m\n\u001b[0m\u001b[1;32m     18\u001b[0m         \u001b[0;31m#print(image.shape)\u001b[0m\u001b[0;34m\u001b[0m\u001b[0;34m\u001b[0m\u001b[0m\n\u001b[1;32m     19\u001b[0m         \u001b[0;31m#print(row_position, row_position + h, col_position, col_position + w)\u001b[0m\u001b[0;34m\u001b[0m\u001b[0;34m\u001b[0m\u001b[0m\n",
      "\u001b[0;31mValueError\u001b[0m: cannot reshape array of size 401 into shape (20,20)"
     ]
    }
   ],
   "source": [
    "def displayData(X, index_list=[]):\n",
    "    row, col = 10, 10\n",
    "    h, w = 20, 20\n",
    "    if len(index_list) == 0:\n",
    "        index_list = sample(range(X.shape[0]), row * col)\n",
    "        \n",
    "    picture = np.zeros((row*h, col*w))\n",
    "    print(picture.shape)\n",
    "    \n",
    "    i, j = 0, 0\n",
    "    for index in index_list:\n",
    "        if j == col:\n",
    "            j = 0\n",
    "            i += 1\n",
    "        row_position = i * h\n",
    "        col_position = j * w\n",
    "        image = X[index].reshape(h, w).T\n",
    "        #print(image.shape)\n",
    "        #print(row_position, row_position + h, col_position, col_position + w)\n",
    "        picture[row_position:row_position + h, col_position:col_position + w] = image\n",
    "        j += 1\n",
    "    \n",
    "    plt.imshow(picture, cmap='gray')\n",
    "    \n",
    "displayData(X)"
   ]
  },
  {
   "cell_type": "code",
   "execution_count": 143,
   "metadata": {},
   "outputs": [],
   "source": [
    "def sigmoid(z):\n",
    "    return 1/(1+np.exp(-z))\n",
    "\n",
    "def sigmoidGradient(z):\n",
    "    s = sigmoid(z)\n",
    "    return s*(1-s)\n",
    "\n",
    "def feedforward(X, theta):\n",
    "    a = X\n",
    "    depth = len(theta)\n",
    "    \n",
    "    for i in range(depth):\n",
    "        w = theta[i]\n",
    "        print(a.shape, w.T.shape)\n",
    "        z = a.dot(w.T)\n",
    "        a = sigmoid(z)\n",
    "        print(a.shape)\n",
    "        if i != depth -1:\n",
    "            a = np.c_[np.ones(a.shape[0]), a]\n",
    "    return a"
   ]
  },
  {
   "cell_type": "code",
   "execution_count": 144,
   "metadata": {},
   "outputs": [
    {
     "name": "stdout",
     "output_type": "stream",
     "text": [
      "(5000, 401) (401, 25)\n",
      "(5000, 25)\n",
      "(5000, 26) (26, 10)\n",
      "(5000, 10)\n",
      "total_cost: [0.28762917]\n",
      "reg_term: 0.09685863108157507\n",
      "[0.3844878]\n"
     ]
    }
   ],
   "source": [
    "def costFunction(theta, X, y, alpha=1.0):\n",
    "    y_table = np.eye(10)\n",
    "    h = feedforward(X, theta)\n",
    "\n",
    "    total_cost = 0.0\n",
    "    m = h.shape[0]\n",
    "    \n",
    "    for i in range(m):\n",
    "        left = -y_table[y[i]-1].dot(np.log(h[i]))\n",
    "        right = (1-y_table[y[i]-1]).dot(np.log(1-h[i]))\n",
    "        total_cost += (left - right)/m\n",
    "    print(\"total_cost:\", total_cost)\n",
    "    \n",
    "    reg_term = 0.0\n",
    "    for i in range(len(theta)):\n",
    "        reg_term += np.sum(theta[i]*theta[i])        \n",
    "    reg_term *= alpha / (2*m)\n",
    "    print(\"reg_term:\", reg_term)\n",
    "    total_cost += reg_term\n",
    "    return total_cost\n",
    "   \n",
    "print(costFunction(theta, X, y))"
   ]
  },
  {
   "cell_type": "code",
   "execution_count": 145,
   "metadata": {},
   "outputs": [
    {
     "name": "stdout",
     "output_type": "stream",
     "text": [
      "0.25\n"
     ]
    }
   ],
   "source": [
    "print(sigmoidGradient(0))"
   ]
  },
  {
   "cell_type": "code",
   "execution_count": 147,
   "metadata": {},
   "outputs": [
    {
     "name": "stdout",
     "output_type": "stream",
     "text": [
      "[[0.25 0.25 0.25]\n",
      " [0.25 0.25 0.25]]\n"
     ]
    }
   ],
   "source": [
    "temp = np.array([[0,0,0], [0,0,0]])\n",
    "print(sigmoidGradient(temp))"
   ]
  },
  {
   "cell_type": "code",
   "execution_count": 166,
   "metadata": {},
   "outputs": [],
   "source": [
    "initial_theta = []\n",
    "epsilon = 0.12\n",
    "for i in range(len(theta)):\n",
    "    row, col = theta[i].shape[0], theta[i].shape[1]\n",
    "    initial_theta.append(np.random.uniform(-epsilon, epsilon, row * col).reshape(row, col))"
   ]
  },
  {
   "cell_type": "code",
   "execution_count": null,
   "metadata": {},
   "outputs": [],
   "source": [
    "\n"
   ]
  }
 ],
 "metadata": {
  "kernelspec": {
   "display_name": "Python 3",
   "language": "python",
   "name": "python3"
  },
  "language_info": {
   "codemirror_mode": {
    "name": "ipython",
    "version": 3
   },
   "file_extension": ".py",
   "mimetype": "text/x-python",
   "name": "python",
   "nbconvert_exporter": "python",
   "pygments_lexer": "ipython3",
   "version": "3.6.4"
  }
 },
 "nbformat": 4,
 "nbformat_minor": 2
}
