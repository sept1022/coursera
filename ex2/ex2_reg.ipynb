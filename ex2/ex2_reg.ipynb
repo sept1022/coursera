{
 "cells": [
  {
   "cell_type": "code",
   "execution_count": 52,
   "metadata": {
    "collapsed": true
   },
   "outputs": [],
   "source": [
    "%config IPCompleter.greedy=True\n",
    "import matplotlib.pyplot as plt\n",
    "import numpy as np\n",
    "import pandas as pd\n",
    "from pandas import Series\n",
    "from termcolor import colored"
   ]
  },
  {
   "cell_type": "code",
   "execution_count": 53,
   "metadata": {},
   "outputs": [],
   "source": [
    "data = np.loadtxt(\"ex2data2.txt\", delimiter=\",\")"
   ]
  },
  {
   "cell_type": "code",
   "execution_count": 54,
   "metadata": {},
   "outputs": [
    {
     "name": "stdout",
     "output_type": "stream",
     "text": [
      "[[ 0.051267  0.69956   1.      ]\n",
      " [-0.092742  0.68494   1.      ]\n",
      " [-0.21371   0.69225   1.      ]\n",
      " [-0.375     0.50219   1.      ]\n",
      " [-0.51325   0.46564   1.      ]]\n"
     ]
    }
   ],
   "source": [
    "print(data[:5])"
   ]
  },
  {
   "cell_type": "code",
   "execution_count": 55,
   "metadata": {},
   "outputs": [],
   "source": [
    "X = data[:,:2]\n",
    "y = data[:,2]"
   ]
  },
  {
   "cell_type": "code",
   "execution_count": 71,
   "metadata": {},
   "outputs": [
    {
     "name": "stdout",
     "output_type": "stream",
     "text": [
      "\u001b[34mX:\u001b[0m [[ 0.051267  0.69956 ]\n",
      " [-0.092742  0.68494 ]\n",
      " [-0.21371   0.69225 ]\n",
      " [-0.375     0.50219 ]\n",
      " [-0.51325   0.46564 ]] \u001b[34m\n",
      "y:\u001b[0m [ 1.  1.  1.  1.  1.]\n"
     ]
    }
   ],
   "source": [
    "print(colored(\"X:\", \"blue\"), X[:5],\n",
    "      colored(\"\\ny:\", \"blue\"), y[:5])"
   ]
  },
  {
   "cell_type": "code",
   "execution_count": 62,
   "metadata": {},
   "outputs": [
    {
     "data": {
      "image/png": "[encoded data removed]",
      "text/plain": [
       "<matplotlib.figure.Figure at 0x11b28ef28>"
      ]
     },
     "metadata": {},
     "output_type": "display_data"
    }
   ],
   "source": [
    "def plotData(X, y):\n",
    "    plt.figure(figsize=(10,6))\n",
    "    plt.xlabel(\"test 1\")\n",
    "    plt.ylabel(\"test 2\")\n",
    "    \n",
    "    plt.scatter(X[:,0][y == 1], \n",
    "                X[:,1][y == 1],\n",
    "                marker=\"+\", \n",
    "                color=\"k\", \n",
    "                label=\"y = 1\")\n",
    "    plt.scatter(X[:,0][y == 0],\n",
    "                X[:,1][y == 0], \n",
    "                marker=\"o\",\n",
    "                color=\"y\",\n",
    "                label=\"y = 0\")\n",
    "    \n",
    "    plt.legend()\n",
    "    plt.show()\n",
    "\n",
    "plotData(X, y)"
   ]
  },
  {
   "cell_type": "code",
   "execution_count": 77,
   "metadata": {
    "collapsed": true
   },
   "outputs": [],
   "source": [
    "def sigmoid(z):\n",
    "    return 1 / (1 + np.exp(-z))"
   ]
  },
  {
   "cell_type": "code",
   "execution_count": 65,
   "metadata": {},
   "outputs": [],
   "source": [
    "#This code I took from someone else (the OCTAVE equivalent was provided in the HW)\n",
    "def mapFeature( x1col, x2col ):\n",
    "    \"\"\" \n",
    "    Function that takes in a column of n- x1's, a column of n- x2s, and builds\n",
    "    a n- x 28-dim matrix of featuers as described in the homework assignment\n",
    "    \"\"\"\n",
    "    degrees = 6\n",
    "    out = np.ones( (x1col.shape[0], 1) )\n",
    "\n",
    "    for i in range(1, degrees+1):\n",
    "        for j in range(0, i+1):\n",
    "            term1 = x1col ** (i-j)\n",
    "            term2 = x2col ** (j)\n",
    "            term  = (term1 * term2).reshape( term1.shape[0], 1 ) \n",
    "            out   = np.hstack(( out, term ))\n",
    "    return out\n",
    "\n",
    "X_ = mapFeature(X[:,0], X[:,1])"
   ]
  },
  {
   "cell_type": "code",
   "execution_count": 59,
   "metadata": {
    "collapsed": true
   },
   "outputs": [],
   "source": [
    "def mapFeature(X, degree=6):\n",
    "    \"\"\" \n",
    "    Feature mapping function to polynomial features\n",
    "\n",
    "    MAPFEATURE(X, degree) maps the two input features\n",
    "    to quadratic features used in the regularization exercise.\n",
    "\n",
    "    Returns a new feature array with more features, comprising of\n",
    "    X1, X2, X1.^2, X2.^2, X1*X2, X1*X2.^2, etc..\n",
    "    \"\"\"\n",
    "    quads = Series([X.iloc[0]**(i-j) * X.iloc[1]**j for i in range(1,degree+1) for j in range(i+1)])\n",
    "    return Series([1]).append([X,quads])\n",
    "\n",
    "def mapFeature2(X1, X2, degree=6):\n",
    "    \"\"\" \n",
    "    Feature mapping function to polynomial features\n",
    "\n",
    "    MAPFEATURE(X, degree) maps the two input features\n",
    "    to quadratic features used in the regularization exercise.\n",
    "\n",
    "    Returns a new feature array with more features, comprising of\n",
    "    X1, X2, X1.^2, X2.^2, X1*X2, X1*X2.^2, etc..\n",
    "    \"\"\"\n",
    "    quads = Series([X1**(i-j) * X2**j for i in range(1,degree+1) for j in range(i+1)])\n",
    "    return Series([1]).append([Series(X1), Series(X2), quads])"
   ]
  },
  {
   "cell_type": "code",
   "execution_count": 88,
   "metadata": {},
   "outputs": [
    {
     "name": "stdout",
     "output_type": "stream",
     "text": [
      "costFunctionReg with initial_theta: 0.693\n"
     ]
    }
   ],
   "source": [
    "def costFunctionReg(theta, X, y, rate = 0.):\n",
    "    m = len(y)\n",
    "    hypothesis = sigmoid(X.dot(theta))\n",
    "    \n",
    "    term_1 = -1 * y * np.log(hypothesis)\n",
    "    term_2 = (1 - y) * np.log(1-hypothesis)\n",
    "    term_3 = np.sum(pow(theta, 2) * rate / (2*m)) \n",
    "    \n",
    "    J = (1.0/m) * np.sum(term_1 - term_2) + term_3\n",
    "    return J\n",
    "\n",
    "initial_theta = np.zeros(len(X_[0]))\n",
    "print(\"costFunctionReg with initial_theta: %.3f\" % costFunctionReg(initial_theta, X_, y))"
   ]
  },
  {
   "cell_type": "code",
   "execution_count": 89,
   "metadata": {
    "collapsed": true
   },
   "outputs": [],
   "source": [
    "from scipy import optimize"
   ]
  },
  {
   "cell_type": "code",
   "execution_count": 104,
   "metadata": {},
   "outputs": [],
   "source": [
    "def optimizeRegularizedTheta(theta, X, y, rate=0.):\n",
    "    result = optimize.minimize(costFunctionReg, \n",
    "                              theta, \n",
    "                              args=(X, y, rate),\n",
    "                              options={\"maxiter\":500, \"disp\":False}, method=\"BFGS\")\n",
    "    return result.x, result.fun\n",
    "optimized_theta, min_cost = optimizeRegularizedTheta(initial_theta, X_, y)"
   ]
  },
  {
   "cell_type": "code",
   "execution_count": 158,
   "metadata": {},
   "outputs": [
    {
     "data": {
      "image/png": "[encoded data removed]",
      "text/plain": [
       "<matplotlib.figure.Figure at 0x15201a3da0>"
      ]
     },
     "metadata": {},
     "output_type": "display_data"
    }
   ],
   "source": [
    "def plotBoundary(theta, X, y):\n",
    "    plt.figure(figsize=(10,6))\n",
    "    plt.xlabel(\"test 1\")\n",
    "    plt.ylabel(\"test 2\")\n",
    "    \n",
    "    plt.scatter(X[:,1][y == 1], \n",
    "                X[:,2][y == 1],\n",
    "                marker=\"+\", \n",
    "                color=\"k\", \n",
    "                label=\"y = 1\")\n",
    "    plt.scatter(X[:,1][y == 0],\n",
    "                X[:,2][y == 0], \n",
    "                marker=\"o\",\n",
    "                color=\"y\",\n",
    "                label=\"y = 0\")\n",
    "    \n",
    "    xvals = np.linspace(-1,1.5,50)\n",
    "    yvals = np.linspace(-1,1.5,50)\n",
    "    zvals = np.zeros((len(xvals),len(yvals)))\n",
    "    for i in range(len(xvals)):\n",
    "        for j in range(len(yvals)):\n",
    "            myfeaturesij = mapFeature(np.array([xvals[i]]),np.array([yvals[j]]))\n",
    "            zvals[i][j] = np.dot(optimized_theta,myfeaturesij.T)\n",
    "    zvals = zvals.transpose()\n",
    "    mycontour = plt.contour( xvals, yvals, zvals, [-1])\n",
    "    plt.legend()\n",
    "    plt.show()\n",
    "    \n",
    "\n",
    "plotBoundary(optimized_theta, X_, y)"
   ]
  },
  {
   "cell_type": "code",
   "execution_count": 123,
   "metadata": {},
   "outputs": [],
   "source": [
    "xvals = np.linspace(-1,1.5,50)\n",
    "yvals = np.linspace(-1,1.5,50)\n",
    "zvals = np.zeros((len(xvals), len(yvals)))"
   ]
  },
  {
   "cell_type": "code",
   "execution_count": 125,
   "metadata": {},
   "outputs": [
    {
     "data": {
      "text/plain": [
       "(50, 50)"
      ]
     },
     "execution_count": 125,
     "metadata": {},
     "output_type": "execute_result"
    }
   ],
   "source": [
    "zvals.shape"
   ]
  },
  {
   "cell_type": "code",
   "execution_count": 151,
   "metadata": {},
   "outputs": [
    {
     "name": "stdout",
     "output_type": "stream",
     "text": [
      "[[ -5084.6547993   -4458.86280666  -3907.93207794 ...,  -1427.44046384\n",
      "   -1607.07067059  -1809.94650787]\n",
      " [ -4126.30372603  -3589.16237048  -3119.02078739 ...,  -1164.29260762\n",
      "   -1322.88393801  -1503.07882308]\n",
      " [ -3329.05181893  -2870.03912046  -2470.81262646 ...,   -947.68005253\n",
      "   -1087.50252087  -1247.48846039]\n",
      " ..., \n",
      " [ -2412.83846276  -2260.42327177  -2128.326913   ..., -24422.35877901\n",
      "  -27131.97799274 -30120.57800716]\n",
      " [ -3021.91554488  -2852.25137996  -2705.28996998 ..., -28264.53541948\n",
      "  -31265.40349454 -34566.23138701]\n",
      " [ -3761.98545608  -3574.19982815  -3411.74764404 ..., -32643.03261375\n",
      "  -35961.54910103 -39602.25458101]]\n"
     ]
    }
   ],
   "source": []
  }
 ],
 "metadata": {
  "kernelspec": {
   "display_name": "Python 3",
   "language": "python",
   "name": "python3"
  },
  "language_info": {
   "codemirror_mode": {
    "name": "ipython",
    "version": 3
   },
   "file_extension": ".py",
   "mimetype": "text/x-python",
   "name": "python",
   "nbconvert_exporter": "python",
   "pygments_lexer": "ipython3",
   "version": "3.6.3"
  }
 },
 "nbformat": 4,
 "nbformat_minor": 2
}
